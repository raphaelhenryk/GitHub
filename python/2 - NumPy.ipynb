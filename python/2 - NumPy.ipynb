{
 "cells": [
  {
   "cell_type": "code",
   "execution_count": 1,
   "metadata": {},
   "outputs": [
    {
     "name": "stdout",
     "output_type": "stream",
     "text": [
      "[180, 215, 210, 210, 188, 176, 209, 200]\n",
      "<class 'numpy.ndarray'>\n",
      "[180 215 210 210 188 176 209 200]\n"
     ]
    }
   ],
   "source": [
    "############# Introduction to Numpy #############\n",
    "#The simplest operation in Numpy, is to create an array from a list.\n",
    "#Arrays works better with maths methods. Lists only works with strings operations\n",
    "\n",
    "# Import the numpy package as np\n",
    "import numpy as np\n",
    "\n",
    "# Create LIST OF baseball height of some baseball players in centimeters.\n",
    "baseball = [180, 215, 210, 210, 188, 176, 209, 200]\n",
    "print(baseball)\n",
    "# Create a numpy array from baseball: np_baseball\n",
    "np_baseball = np.array(baseball)\n",
    "\n",
    "# Print out type of np_baseball\n",
    "print(type(np_baseball))\n",
    "print(np_baseball)"
   ]
  },
  {
   "cell_type": "code",
   "execution_count": 13,
   "metadata": {},
   "outputs": [
    {
     "name": "stdout",
     "output_type": "stream",
     "text": [
      "[74 74 72 75 75 73]\n",
      "[1.8796 1.8796 1.8288 1.905  1.905  1.8542]\n",
      "bmi =   [26.32015089 24.39428619 24.41211827 25.62295933 23.74810865 25.72686361]\n"
     ]
    }
   ],
   "source": [
    "# height is available as a regular list\n",
    "\n",
    "# Import numpy\n",
    "import numpy as np\n",
    "\n",
    "height_in = [74,74,72,75,75,73]\n",
    "\n",
    "weight_lb = [205, 190, 180, 205, 190, 195]\n",
    "\n",
    "# Create a numpy array from height_in LIST: np_height_in\n",
    "np_height_in = np.array(height_in)\n",
    "\n",
    "# Create array from weight_lb with metric units: np_weight_kg\n",
    "np_weight_kg = np.array(weight_lb) * 0.453592\n",
    "\n",
    "# Print out np_height_in\n",
    "print(np_height_in)\n",
    "\n",
    "# Convert np_height_in to m: np_height_m\n",
    "np_height_m = np_height_in * 0.0254\n",
    "\n",
    "# Print np_height_m\n",
    "print(np_height_m)\n",
    "\n",
    "# Calculate the BMI: bmi\n",
    "np_bmi = np_weight_kg/(np_height_m ** 2)\n",
    "\n",
    "# Print out bmi\n",
    "print(\"bmi =  \" ,np_bmi)\n"
   ]
  },
  {
   "cell_type": "code",
   "execution_count": 14,
   "metadata": {},
   "outputs": [
    {
     "data": {
      "text/plain": [
       "array([4, 5, 2])"
      ]
     },
     "execution_count": 14,
     "metadata": {},
     "output_type": "execute_result"
    }
   ],
   "source": [
    "#Numpy is great for doing vector arithmetic. \n",
    "#If you compare its functionality with regular Python lists, however, some things have changed.\n",
    "#First of all, numpy arrays cannot contain elements with different types. \n",
    "#If you try to build such a list, some of the elements' types are changed to end up with a homogeneous list. This is known as type coercion.3\n",
    "#Second, the typical arithmetic operators, such as +, -, * and / have a different meaning for regular Python lists and numpy arrays.\n",
    "\n",
    "#Have a look at this line of code:\n",
    "\n",
    "np.array([True, 1, 2]) + np.array([3, 4, False])\n"
   ]
  },
  {
   "cell_type": "code",
   "execution_count": 19,
   "metadata": {},
   "outputs": [
    {
     "name": "stdout",
     "output_type": "stream",
     "text": [
      "75\n",
      "[73 80 50]\n"
     ]
    }
   ],
   "source": [
    "import numpy as np\n",
    "\n",
    "height_in = [74,74,72,75,75,73,80,50,70,83]\n",
    "\n",
    "np_height_in = np.array(height_in)\n",
    "\n",
    "\n",
    "# Create a numpy array from height_in: np_height_in\n",
    "np_height_in = np.array(height_in)\n",
    "\n",
    "# Print out the weight at index 4\n",
    "print(np_height_in[4])\n",
    "\n",
    "# Print out sub-array of np_height_in: index 5 up to and including index 8\n",
    "print(np_height_in[5:8])"
   ]
  },
  {
   "cell_type": "code",
   "execution_count": 1,
   "metadata": {},
   "outputs": [
    {
     "name": "stdout",
     "output_type": "stream",
     "text": [
      "<class 'numpy.ndarray'>\n",
      "(4, 2)\n",
      "[188.   75.2]\n",
      "210.0\n",
      "[[ 4.572     35.5616128]\n",
      " [ 5.461     46.5838984]\n",
      " [ 5.334     44.678812 ]\n",
      " [ 4.7752    34.1101184]]\n",
      "143.475\n",
      "141.35\n"
     ]
    }
   ],
   "source": [
    "# 2D NumPy Arrays - Lists of List\n",
    "# Create baseball, a list of lists\n",
    "baseball = [[180, 78.4],\n",
    "            [215, 102.7],\n",
    "            [210, 98.5],\n",
    "            [188, 75.2]]\n",
    "\n",
    "# Import numpy\n",
    "import numpy as np\n",
    "\n",
    "# Create a 2D numpy array from baseball: np_baseball\n",
    "np_baseball = np.array(baseball)\n",
    "\n",
    "# Print out the type of np_baseball\n",
    "print(type(np_baseball))\n",
    "\n",
    "# Print out the shape of np_baseball\n",
    "print(np_baseball.shape)\n",
    "\n",
    "# Print out the 4rd row of np_baseball\n",
    "print(np_baseball[3,:])\n",
    "\n",
    "# Select the entire second column of np_baseball: np_weight_lb\n",
    "np_weight_lb = np_baseball[:,1]\n",
    "\n",
    "# Print out height of 2nd player\n",
    "print(np_baseball[2,0])\n",
    "\n",
    "conversion = np.array([0.0254 , 0.453592])\n",
    "\n",
    "print(np_baseball * conversion)\n",
    "\n",
    "# Print out the mean of np_height_in\n",
    "print(np_baseball.mean())\n",
    "\n",
    "# Print out the median of np_height_in\n",
    "print(np.median(np_baseball))\n",
    "\n"
   ]
  },
  {
   "cell_type": "code",
   "execution_count": 3,
   "metadata": {},
   "outputs": [
    {
     "name": "stdout",
     "output_type": "stream",
     "text": [
      "[215.  102.7]\n",
      "[ 78.4 102.7  98.5  75.2]\n",
      "188.0\n"
     ]
    }
   ],
   "source": [
    "#Selecting NumPy Subsetings\n",
    "\n",
    "# Print out the 2nd ROW of np_baseball\n",
    "print(np_baseball[1,:])\n",
    "\n",
    "# Select the entire 2nd COLUMN of np_baseball: np_weight_lb\n",
    "np_weight_lb = np_baseball[:,1]\n",
    "print(np_weight_lb)\n",
    "\n",
    "\n",
    "# Print out height of 4th player\n",
    "print(np_baseball[3,0])"
   ]
  },
  {
   "cell_type": "markdown",
   "metadata": {},
   "source": [
    "############################  NumPy: Basic Statistics"
   ]
  },
  {
   "cell_type": "code",
   "execution_count": 5,
   "metadata": {},
   "outputs": [
    {
     "name": "stdout",
     "output_type": "stream",
     "text": [
      "88.7\n",
      "88.45\n",
      "Average: 198.25\n",
      "Median: 199.0\n",
      "Standard Deviation: 14.635146053251399\n",
      "Correlation: [[1.         0.95865738]\n",
      " [0.95865738 1.        ]]\n"
     ]
    }
   ],
   "source": [
    "#STANDARD DEVIATION\n",
    "#Correlation coefficients.\n",
    "\n",
    "#MEAN\n",
    "# Print out the mean of np_height_in\n",
    "print(np_weight_lb.mean())\n",
    "\n",
    "#MEDIAN\n",
    "# Print out the median of np_height_in\n",
    "print(np.median(np_weight_lb))\n",
    "\n",
    "\n",
    "\n",
    "# Print mean height (first column)\n",
    "avg = np.mean(np_baseball[:,0])\n",
    "print(\"Average: \" + str(avg))\n",
    "\n",
    "# Print median height. Replace 'None'\n",
    "med = np.median(np_baseball[:,0])\n",
    "print(\"Median: \" + str(med))\n",
    "\n",
    "# Print out the standard deviation on height. Replace 'None'\n",
    "stddev = np.std(np_baseball[:,0])\n",
    "print(\"Standard Deviation: \" + str(stddev))\n",
    "\n",
    "# Print out correlation between first and second column. Replace 'None'\n",
    "corr = np.corrcoef(np_baseball[:,0], np_baseball[:,1])\n",
    "print(\"Correlation: \" + str(corr))\n"
   ]
  },
  {
   "cell_type": "code",
   "execution_count": null,
   "metadata": {},
   "outputs": [],
   "source": []
  }
 ],
 "metadata": {
  "kernelspec": {
   "display_name": "Python 3",
   "language": "python",
   "name": "python3"
  },
  "language_info": {
   "codemirror_mode": {
    "name": "ipython",
    "version": 3
   },
   "file_extension": ".py",
   "mimetype": "text/x-python",
   "name": "python",
   "nbconvert_exporter": "python",
   "pygments_lexer": "ipython3",
   "version": "3.7.3"
  }
 },
 "nbformat": 4,
 "nbformat_minor": 2
}
